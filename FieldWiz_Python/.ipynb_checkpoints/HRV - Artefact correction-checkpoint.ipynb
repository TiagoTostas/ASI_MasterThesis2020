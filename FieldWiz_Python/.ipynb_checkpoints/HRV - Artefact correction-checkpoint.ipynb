{
 "cells": [
  {
   "cell_type": "markdown",
   "metadata": {},
   "source": [
    "# Testing different artefact correction algorithms\n",
    "Evaluate different artefact correction: 1) no correction; 2) Kubios artefact method and 3) Remove beats that deviate 20% from the median (11 samples). Test how different artifact correction methods affetec HRV metrics.\n",
    "- Time-Domain: RMSSD in a 10 sec window\n",
    "- Frequency-Domain: LF and HF in 120 sec window\n"
   ]
  },
  {
   "cell_type": "code",
   "execution_count": 1,
   "metadata": {
    "scrolled": true
   },
   "outputs": [],
   "source": [
    "import sys\n",
    "# mac\n",
    "sys.path.append('/Users/tiagorodrigues/Documents/GitHub/NeuroKit')\n",
    "\n",
    "import scipy\n",
    "import numpy as np\n",
    "import pandas as pd\n",
    "import os\n",
    "import json\n",
    "import matplotlib.pyplot as plt\n",
    "import neurokit2 as nk\n",
    "import matplotlib as mat\n",
    "\n",
    "from pathlib import Path"
   ]
  },
  {
   "cell_type": "markdown",
   "metadata": {},
   "source": [
    "1) Case study: *20200405-TR-FWv2.txt* , from rest to exercise\n",
    "### 1.1) No artefact correction  "
   ]
  },
  {
   "cell_type": "code",
   "execution_count": 2,
   "metadata": {
    "scrolled": true
   },
   "outputs": [],
   "source": [
    "# NO ARTEFACT CORRECTION\n",
    "# Load ECG session\n",
    "pathname = r\"/Users/tiagorodrigues/OneDrive - Universidade de Lisboa/TiagoRodrigues_EPFL_FieldWiz_tese_2020/Data\"\n",
    "activity = \"Activities\"\n",
    "record = \"20200405-TR-FWv2.txt\"\n",
    "pathname + \"/\" + activity + \"/\" + record\n",
    "\n",
    "f = open(pathname + \"/\" + activity + \"/\" + record, 'r')\n",
    "ecg = f.readlines()[4:]\n",
    "f.close()\n",
    "\n",
    "sampling_rate = 250\n",
    "\n",
    "# Window size for epoches in seconds\n",
    "time_window = 10\n",
    "freq_window = 120\n",
    "\n",
    "# Clean ECG (no pre-processing method using ASI)\n",
    "ecg_cleaned = nk.ecg_clean(ecg,sampling_rate=sampling_rate, method='kalidas')\n",
    "\n",
    "\n",
    "# R-peaks detection\n",
    "instant_peaks, rpeaks_nocorrection, = nk.ecg_peaks(ecg_cleaned=ecg_cleaned, sampling_rate=sampling_rate, correct_artifacts=False)\n",
    "rate = nk.signal_rate(rpeaks_nocorrection,sampling_rate=sampling_rate,desired_length=len(ecg_cleaned))\n",
    "signals = pd.DataFrame({\"ECG_Raw\": ecg,\"ECG_Clean\": ecg_cleaned,\"ECG_Rate\": rate})\n",
    "\n",
    "                                    \n",
    "# Have the right struture for epochs\n",
    "signals = pd.concat([signals, instant_peaks], axis=1)\n",
    "\n",
    "# Create epochs of the ecg signal for 10sec and 2min windows\n",
    "ecg_epochs_time = nk.epochs_create(signals, sampling_rate = 250, epochs_end = time_window)\n",
    "ecg_epochs_freq = nk.epochs_create(signals, sampling_rate = 250, epochs_end = freq_window)\n",
    "\n",
    "# Compute HRV metrics over the ecg_epochs\n",
    "hrv_epoches_nocorrection10 = nk.ecg_intervalrelated(ecg_epochs_time,sampling_rate = 250)\n",
    "hrv_epoches_nocorrection120 = nk.ecg_intervalrelated(ecg_epochs_freq,sampling_rate = 250)"
   ]
  },
  {
   "cell_type": "markdown",
   "metadata": {},
   "source": [
    "### 1.2) Kubios: Lipponen & Tarvainen (2019) "
   ]
  },
  {
   "cell_type": "code",
   "execution_count": null,
   "metadata": {
    "scrolled": true
   },
   "outputs": [],
   "source": [
    "# Kubios: Lipponen & Tarvainen (2019) \n",
    "# R-peaks detection\n",
    "instant_peaks, rpeaks_kubios, = nk.ecg_peaks(ecg_cleaned=ecg_cleaned, sampling_rate=sampling_rate, methodcorrect='kubios',correct_artifacts=True)\n",
    "rate = nk.signal_rate(rpeaks_kubios,sampling_rate=sampling_rate,desired_length=len(ecg_cleaned))\n",
    "signals = pd.DataFrame({\"ECG_Raw\": ecg,\"ECG_Clean\": ecg_cleaned,\"ECG_Rate\": rate})\n",
    "                                    \n",
    "# Have the right struture for epochs\n",
    "signals = pd.concat([signals, instant_peaks], axis=1)\n",
    "\n",
    "# Create epochs of the ecg signal\n",
    "ecg_epochs_time = nk.epochs_create(signals, sampling_rate=250, epochs_end = time_window)\n",
    "ecg_epochs_freq = nk.epochs_create(signals, sampling_rate=250, epochs_end = freq_window)\n",
    "\n",
    "# Compute HRV metrics over the ecg_epochs\n",
    "hrv_epoches_correctionkubios10 = nk.ecg_intervalrelated(ecg_epochs_time,sampling_rate = 250)\n",
    "hrv_epoches_correctionkubios120 = nk.ecg_intervalrelated(ecg_epochs_freq,sampling_rate = 250)"
   ]
  },
  {
   "cell_type": "markdown",
   "metadata": {},
   "source": [
    "### 1.3) Remove RR-intervals based on 20% relative difference"
   ]
  },
  {
   "cell_type": "code",
   "execution_count": null,
   "metadata": {},
   "outputs": [],
   "source": [
    "# Deviation 20% from the mean\n",
    "# R-peaks detection\n",
    "instant_peaks, rpeaks_20 = nk.ecg_peaks(ecg_cleaned=ecg_cleaned, sampling_rate=sampling_rate, methodcorrect='asi', correct_artifacts=True)\n",
    "rate = nk.signal_rate(rpeaks_20,sampling_rate=sampling_rate,desired_length=len(ecg_cleaned))\n",
    "signals = pd.DataFrame({\"ECG_Raw\": ecg,\"ECG_Clean\": ecg_cleaned,\"ECG_Rate\": rate})\n",
    "\n",
    "# Have the right struture for epochs\n",
    "signals = pd.concat([signals, instant_peaks], axis=1)\n",
    "\n",
    "# Create epochs of the ecg signal\n",
    "ecg_epochs_time = nk.epochs_create(signals, sampling_rate=250, epochs_end = time_window)\n",
    "ecg_epochs_freq = nk.epochs_create(signals, sampling_rate=250, epochs_end = freq_window)\n",
    "\n",
    "# Compute HRV metrics over the ecg_epochs\n",
    "hrv_epoches_correctionmedian10 = nk.ecg_intervalrelated(ecg_epochs_time,sampling_rate=250)\n",
    "hrv_epoches_correctionmedian120 = nk.ecg_intervalrelated(ecg_epochs_freq,sampling_rate=250)"
   ]
  },
  {
   "cell_type": "code",
   "execution_count": 17,
   "metadata": {},
   "outputs": [
    {
     "data": {
      "text/plain": [
       "{'ECG_R_Peaks': array([     0,    228,    431, ..., 502693, 502827, 502959])}"
      ]
     },
     "execution_count": 17,
     "metadata": {},
     "output_type": "execute_result"
    }
   ],
   "source": [
    "rpeaks_kubios"
   ]
  },
  {
   "cell_type": "code",
   "execution_count": 18,
   "metadata": {},
   "outputs": [
    {
     "data": {
      "text/plain": [
       "(        ECG_R_Peaks\n",
       " 0               1.0\n",
       " 1               0.0\n",
       " 2               0.0\n",
       " 3               0.0\n",
       " 4               0.0\n",
       " ...             ...\n",
       " 503294          0.0\n",
       " 503295          0.0\n",
       " 503296          0.0\n",
       " 503297          0.0\n",
       " 503298          0.0\n",
       " \n",
       " [503299 rows x 1 columns],\n",
       " {'ECG_R_Peaks': array([     0,    228,    431, ..., 502693, 502827, 502959])})"
      ]
     },
     "execution_count": 18,
     "metadata": {},
     "output_type": "execute_result"
    }
   ],
   "source": [
    "rpeaks_20"
   ]
  },
  {
   "cell_type": "markdown",
   "metadata": {},
   "source": [
    "## Time and Frequency domain features"
   ]
  },
  {
   "cell_type": "code",
   "execution_count": 9,
   "metadata": {},
   "outputs": [
    {
     "ename": "TypeError",
     "evalue": "tuple indices must be integers or slices, not str",
     "output_type": "error",
     "traceback": [
      "\u001b[0;31m---------------------------------------------------------------------------\u001b[0m",
      "\u001b[0;31mTypeError\u001b[0m                                 Traceback (most recent call last)",
      "\u001b[0;32m<ipython-input-9-45c577e61977>\u001b[0m in \u001b[0;36m<module>\u001b[0;34m\u001b[0m\n\u001b[1;32m      4\u001b[0m \u001b[0mplt\u001b[0m\u001b[0;34m.\u001b[0m\u001b[0mplot\u001b[0m\u001b[0;34m(\u001b[0m\u001b[0mnp\u001b[0m\u001b[0;34m.\u001b[0m\u001b[0mdiff\u001b[0m\u001b[0;34m(\u001b[0m\u001b[0mrpeaks_nocorrection\u001b[0m\u001b[0;34m[\u001b[0m\u001b[0;34m'ECG_R_Peaks'\u001b[0m\u001b[0;34m]\u001b[0m\u001b[0;34m)\u001b[0m\u001b[0;34m,\u001b[0m\u001b[0mlabel\u001b[0m\u001b[0;34m=\u001b[0m\u001b[0;34m'RR-intervals, no correction'\u001b[0m\u001b[0;34m)\u001b[0m\u001b[0;34m\u001b[0m\u001b[0;34m\u001b[0m\u001b[0m\n\u001b[1;32m      5\u001b[0m \u001b[0mplt\u001b[0m\u001b[0;34m.\u001b[0m\u001b[0mplot\u001b[0m\u001b[0;34m(\u001b[0m\u001b[0mnp\u001b[0m\u001b[0;34m.\u001b[0m\u001b[0mdiff\u001b[0m\u001b[0;34m(\u001b[0m\u001b[0mrpeaks_kubios\u001b[0m\u001b[0;34m[\u001b[0m\u001b[0;34m'ECG_R_Peaks'\u001b[0m\u001b[0;34m]\u001b[0m\u001b[0;34m)\u001b[0m\u001b[0;34m,\u001b[0m\u001b[0mlabel\u001b[0m \u001b[0;34m=\u001b[0m\u001b[0;34m'RR-intervals, Kubios'\u001b[0m\u001b[0;34m)\u001b[0m\u001b[0;34m\u001b[0m\u001b[0;34m\u001b[0m\u001b[0m\n\u001b[0;32m----> 6\u001b[0;31m \u001b[0mplt\u001b[0m\u001b[0;34m.\u001b[0m\u001b[0mplot\u001b[0m\u001b[0;34m(\u001b[0m\u001b[0mnp\u001b[0m\u001b[0;34m.\u001b[0m\u001b[0mdiff\u001b[0m\u001b[0;34m(\u001b[0m\u001b[0mrpeaks_20\u001b[0m\u001b[0;34m[\u001b[0m\u001b[0;34m'ECG_R_Peaks'\u001b[0m\u001b[0;34m]\u001b[0m\u001b[0;34m)\u001b[0m\u001b[0;34m,\u001b[0m\u001b[0mlabel\u001b[0m\u001b[0;34m=\u001b[0m\u001b[0;34m'RR-intervals, % 20 from the median'\u001b[0m\u001b[0;34m)\u001b[0m\u001b[0;34m\u001b[0m\u001b[0;34m\u001b[0m\u001b[0m\n\u001b[0m\u001b[1;32m      7\u001b[0m \u001b[0mplt\u001b[0m\u001b[0;34m.\u001b[0m\u001b[0mxlabel\u001b[0m\u001b[0;34m(\u001b[0m\u001b[0;34m'Time (s)'\u001b[0m\u001b[0;34m)\u001b[0m\u001b[0;34m\u001b[0m\u001b[0;34m\u001b[0m\u001b[0m\n\u001b[1;32m      8\u001b[0m \u001b[0mplt\u001b[0m\u001b[0;34m.\u001b[0m\u001b[0mgrid\u001b[0m\u001b[0;34m(\u001b[0m\u001b[0;34m)\u001b[0m\u001b[0;34m\u001b[0m\u001b[0;34m\u001b[0m\u001b[0m\n",
      "\u001b[0;31mTypeError\u001b[0m: tuple indices must be integers or slices, not str"
     ]
    },
    {
     "data": {
      "image/png": "[encoded data removed]",
      "text/plain": [
       "<Figure size 1080x1080 with 1 Axes>"
      ]
     },
     "metadata": {
      "needs_background": "light"
     },
     "output_type": "display_data"
    }
   ],
   "source": [
    "# Plot RR-intervals and corrected \n",
    "fig1, ax1 = plt.subplots(figsize=(15,15));\n",
    "plt.subplot(3,1,1)\n",
    "plt.plot(np.diff(rpeaks_nocorrection['ECG_R_Peaks']),label='RR-intervals, no correction')\n",
    "plt.plot(np.diff(rpeaks_kubios['ECG_R_Peaks']),label ='RR-intervals, Kubios')\n",
    "plt.plot(np.diff(rpeaks_20['ECG_R_Peaks']),label='RR-intervals, % 20 from the median')\n",
    "plt.xlabel('Time (s)')\n",
    "plt.grid()\n",
    "plt.title('RR-intervals')\n",
    "plt.legend()\n",
    "\n",
    "\n",
    "# Epoches of 10 sec - Time Domain\n",
    "# set first values as 0\n",
    "hrv_epoches_nocorrection10['HRV_RMSSD'][0] = hrv_epoches_nocorrection10['HRV_RMSSD'][1]  \n",
    "hrv_epoches_correctionkubios10['HRV_RMSSD'][0] = hrv_epoches_correctionkubios10['HRV_RMSSD'][1]  \n",
    "hrv_epoches_correctionmedian10['HRV_RMSSD'][0] = hrv_epoches_correctionkubios10['HRV_RMSSD'][1]  \n",
    "\n",
    "plt.subplot(3,1,2)\n",
    "plt.plot(hrv_epoches_nocorrection10['HRV_RMSSD'],label='RMSSD_no corrected')\n",
    "plt.plot(hrv_epoches_correctionkubios10['HRV_RMSSD'],label='RMSSD_corrected kubios')\n",
    "plt.plot(hrv_epoches_correctionmedian10['HRV_RMSSD'],label='RMSSD_corrected 20%')\n",
    "plt.ylim([0, 150]);\n",
    "plt.xlabel('Epoches')\n",
    "plt.ylabel('RMSSD (ms)')\n",
    "plt.title('Time domain metrics')\n",
    "plt.legend();\n",
    "\n",
    "\n",
    "# Epoches of 120 sec - Freq Domain\n",
    "plt.subplot(3,1,3)\n",
    "plt.plot(hrv_epoches_correctionkubios120['HRV_HFn'],'g--',label='HF_corrected kubios')\n",
    "plt.plot(hrv_epoches_correctionmedian120['HRV_HFn'],'g-.',label='HF_corrected 20%')\n",
    "plt.plot(hrv_epoches_nocorrection120['HRV_HFn'],'g',label ='HF_no corrected' )\n",
    "plt.plot(hrv_epoches_correctionkubios120['HRV_LFn'],'b--',label= 'LF_corrected kubios')\n",
    "plt.plot(hrv_epoches_correctionmedian120['HRV_LFn'],'b-.',label= 'LF_corrected 20%')\n",
    "plt.plot(hrv_epoches_nocorrection120['HRV_LFn'],'b',label = 'LF_nocorrected')\n",
    "plt.ylim([0, 1]);\n",
    "plt.xlabel('Epoches')\n",
    "plt.title('Frequency domain metrics')\n",
    "plt.ylabel('a.u')\n",
    "plt.legend();\n"
   ]
  },
  {
   "cell_type": "markdown",
   "metadata": {},
   "source": [
    "### Results\n",
    "- missed detected beats cause sharp artefacts in the Time-Domain metrics.\n",
    "- missed beats wrongly classified as ectopic are interpolated, resulting in artefacts in the time-domain. The effects of the interpolation in the frequency metrics is not significative.\n",
    "- kubios vs corrected20% showed similar results for time and frequency metrics, appart from the artefact at *t = 3000 s*."
   ]
  },
  {
   "cell_type": "markdown",
   "metadata": {},
   "source": [
    "2) Case study: *20200508-SS-Belt.txt* , from rest - exercise - rest\n"
   ]
  },
  {
   "cell_type": "code",
   "execution_count": null,
   "metadata": {},
   "outputs": [],
   "source": [
    "def open_file(typeactivity,dayactivity, show):\n",
    "    # Input: data file name\n",
    "    # e.g  \"Activities/20200508-SS-Belt.txt\"\n",
    "        \n",
    "    # name of the file\n",
    "    data_folder = Path(\"/Users/tiagorodrigues/OneDrive - Universidade de Lisboa/TiagoRodrigues_EPFL_FieldWiz_tese_2020/Data/\")  \n",
    "    file_to_open = os.path.join(data_folder, typeactivity, dayactivity)\n",
    "\n",
    "    print(file_to_open)\n",
    "        \n",
    "    # import header json file\n",
    "    f = open(file_to_open) \n",
    "    line = f.readline()\n",
    "    line = f.readline(1)\n",
    "    line = f.readline()\n",
    "    header = line.replace(\"\\n\", \"\")\n",
    "    \n",
    "    # import ecg data\n",
    "    ecg_fieldwiz = np.genfromtxt(file_to_open) \n",
    "    time = np.arange(0, len(ecg_fieldwiz)/250, 1/250)\n",
    "    \n",
    "    # plot ECG\n",
    "    if show == 1:\n",
    "        plt.figure(figsize=(10, 5), dpi=100)\n",
    "        plt.plot(time,ecg_fieldwiz)\n",
    "        plt.ylabel(\"ECG (16-bit)\")\n",
    "        plt.xlabel(\"Time (s)\")\n",
    "        plt.title('Raw ECG', fontdict=None, loc='center', pad=None)\n",
    "    \n",
    "    return header,ecg_fieldwiz,time"
   ]
  },
  {
   "cell_type": "code",
   "execution_count": null,
   "metadata": {},
   "outputs": [],
   "source": [
    "# NO ARTEFACT CORRECTION\n",
    "# Load ECG session\n",
    "header,ecg,time = open_file(\"Activities\",\"20200508-SS-Belt.txt\",0)\n",
    "sampling_rate = 250\n",
    "\n",
    "# Window size for epoches\n",
    "time_window = 10\n",
    "freq_window = 120\n",
    "\n",
    "# Clean ECG (no pre-processing method using ASI)\n",
    "ecg_cleaned = nk.ecg_clean(ecg,sampling_rate=sampling_rate, method='asi')\n",
    "\n",
    "\n",
    "# R-peaks detection\n",
    "instant_peaks, rpeaks_nocorrection, = nk.ecg_peaks(ecg_cleaned=ecg_cleaned,sampling_rate=sampling_rate,method='asi',correct_artifacts=False)\n",
    "rate = nk.signal_rate(rpeaks_nocorrection,sampling_rate=sampling_rate,desired_length=len(ecg_cleaned))\n",
    "quality = nk.ecg_quality(ecg_cleaned, rpeaks=None, sampling_rate=sampling_rate)\n",
    "signals = pd.DataFrame({\"ECG_Raw\": ecg,\"ECG_Clean\": ecg_cleaned,\"ECG_Rate\": rate,\"ECG_Quality\": quality})\n",
    "                                    \n",
    "# Have the right struture for epochs\n",
    "signals = pd.concat([signals, instant_peaks], axis=1)\n",
    "\n",
    "# Create epochs of the ecg signal for 10sec and 2min windows\n",
    "ecg_epochs_time = nk.epochs_create(signals, sampling_rate = 250, epochs_end = time_window)\n",
    "ecg_epochs_freq = nk.epochs_create(signals, sampling_rate = 250, epochs_end = freq_window)\n",
    "\n",
    "# Compute HRV metrics over the ecg_epochs\n",
    "hrv_epoches_nocorrection10 = nk.ecg_intervalrelated(ecg_epochs_time,sampling_rate = 250)\n",
    "hrv_epoches_nocorrection120 = nk.ecg_intervalrelated(ecg_epochs_freq,sampling_rate = 250)\n",
    "\n",
    "#========================\n",
    "# Kubios: Lipponen & Tarvainen (2019) \n",
    "# R-peaks detection\n",
    "instant_peaks, rpeaks_kubios, = nk.ecg_peaks(ecg_cleaned=ecg_cleaned,sampling_rate=sampling_rate,method='asi',correct_artifacts=True,methodcorrect='kubios')\n",
    "rate = nk.signal_rate(rpeaks_kubios,sampling_rate=sampling_rate,desired_length=len(ecg_cleaned))\n",
    "quality = nk.ecg_quality(ecg_cleaned, rpeaks=None, sampling_rate=sampling_rate)\n",
    "signals = pd.DataFrame({\"ECG_Raw\": ecg,\"ECG_Clean\": ecg_cleaned,\"ECG_Rate\": rate,\"ECG_Quality\": quality})\n",
    "                                    \n",
    "# Have the right struture for epochs\n",
    "signals = pd.concat([signals, instant_peaks], axis=1)\n",
    "\n",
    "# Create epochs of the ecg signal\n",
    "ecg_epochs_time = nk.epochs_create(signals, sampling_rate=250, epochs_end = time_window)\n",
    "ecg_epochs_freq = nk.epochs_create(signals, sampling_rate=250, epochs_end = freq_window)\n",
    "\n",
    "# Compute HRV metrics over the ecg_epochs\n",
    "hrv_epoches_correctionkubios10 = nk.ecg_intervalrelated(ecg_epochs_time,sampling_rate = 250)\n",
    "hrv_epoches_correctionkubios120 = nk.ecg_intervalrelated(ecg_epochs_freq,sampling_rate = 250)\n",
    "\n",
    "#========================\n",
    "# Deviation 20% from the mean\n",
    "# R-peaks detection\n",
    "instant_peaks, rpeaks_20, = nk.ecg_peaks(ecg_cleaned=ecg_cleaned,sampling_rate=sampling_rate,method='asi',correct_artifacts=True,methodcorrect='asi')\n",
    "rate = nk.signal_rate(rpeaks_20,sampling_rate=sampling_rate,desired_length=len(ecg_cleaned))\n",
    "quality = nk.ecg_quality(ecg_cleaned, rpeaks=None, sampling_rate=sampling_rate)\n",
    "signals = pd.DataFrame({\"ECG_Raw\": ecg,\"ECG_Clean\": ecg_cleaned,\"ECG_Rate\": rate,\"ECG_Quality\": quality})\n",
    "\n",
    "# Have the right struture for epochs\n",
    "signals = pd.concat([signals, instant_peaks], axis=1)\n",
    "\n",
    "# Create epochs of the ecg signal\n",
    "ecg_epochs_time = nk.epochs_create(signals, sampling_rate=250, epochs_end = time_window)\n",
    "ecg_epochs_freq = nk.epochs_create(signals, sampling_rate=250, epochs_end = freq_window)\n",
    "\n",
    "# Compute HRV metrics over the ecg_epochs\n",
    "hrv_epoches_correctionmedian10 = nk.ecg_intervalrelated(ecg_epochs_time,sampling_rate=250)\n",
    "hrv_epoches_correctionmedian120 = nk.ecg_intervalrelated(ecg_epochs_freq,sampling_rate=250)"
   ]
  },
  {
   "cell_type": "code",
   "execution_count": null,
   "metadata": {},
   "outputs": [],
   "source": [
    "# Plot RR-intervals and corrected \n",
    "fig1, ax1 = plt.subplots(figsize=(15,15));\n",
    "plt.subplot(3,1,1)\n",
    "plt.plot(np.diff(rpeaks_nocorrection['ECG_R_Peaks']),label='RR-intervals, no correction')\n",
    "plt.plot(np.diff(rpeaks_kubios['ECG_R_Peaks']),label ='RR-intervals, Kubios')\n",
    "plt.plot(np.diff(rpeaks_20['ECG_R_Peaks']),label='RR-intervals, % 20 from the median')\n",
    "plt.xlabel('Time (s)')\n",
    "plt.grid()\n",
    "plt.title('RR-intervals')\n",
    "plt.legend()\n",
    "\n",
    "\n",
    "# Epoches of 10 sec - Time Domain\n",
    "# set first values as 0\n",
    "hrv_epoches_nocorrection10['HRV_RMSSD'][0] = hrv_epoches_nocorrection10['HRV_RMSSD'][1]  \n",
    "hrv_epoches_correctionkubios10['HRV_RMSSD'][0] = hrv_epoches_correctionkubios10['HRV_RMSSD'][1]  \n",
    "hrv_epoches_correctionmedian10['HRV_RMSSD'][0] = hrv_epoches_correctionkubios10['HRV_RMSSD'][1]  \n",
    "\n",
    "plt.subplot(3,1,2)\n",
    "plt.plot(hrv_epoches_nocorrection10['HRV_RMSSD'],label='RMSSD_no corrected')\n",
    "plt.plot(hrv_epoches_correctionkubios10['HRV_RMSSD'],label='RMSSD_corrected kubios')\n",
    "plt.plot(hrv_epoches_correctionmedian10['HRV_RMSSD'],label='RMSSD_corrected 20%')\n",
    "plt.ylim([0, 150]);\n",
    "plt.xlabel('Epoches')\n",
    "plt.ylabel('RMSSD (ms)')\n",
    "plt.title('Time domain metrics')\n",
    "plt.legend();\n",
    "\n",
    "\n",
    "# Epoches of 120 sec - Freq Domain\n",
    "plt.subplot(3,1,3)\n",
    "plt.plot(hrv_epoches_correctionkubios120['HRV_HFn'],'g--',label='HF_corrected kubios')\n",
    "plt.plot(hrv_epoches_correctionmedian120['HRV_HFn'],'g-.',label='HF_corrected 20%')\n",
    "plt.plot(hrv_epoches_nocorrection120['HRV_HFn'],'g',label ='HF_no corrected' )\n",
    "plt.plot(hrv_epoches_correctionkubios120['HRV_LFn'],'b--',label= 'LF_corrected kubios')\n",
    "plt.plot(hrv_epoches_correctionmedian120['HRV_LFn'],'b-.',label= 'LF_corrected 20%')\n",
    "plt.plot(hrv_epoches_nocorrection120['HRV_LFn'],'b',label = 'LF_nocorrected')\n",
    "plt.ylim([0, 1]);\n",
    "plt.xlabel('Epoches')\n",
    "plt.title('Frequency domain metrics')\n",
    "plt.ylabel('a.u')\n",
    "plt.legend(loc='upper right');\n"
   ]
  },
  {
   "cell_type": "markdown",
   "metadata": {},
   "source": [
    "3) Case study: *20200416-TR-FWv2series.txt* , during rest"
   ]
  },
  {
   "cell_type": "code",
   "execution_count": null,
   "metadata": {},
   "outputs": [],
   "source": [
    "# NO ARTEFACT CORRECTION\n",
    "# Load ECG session\n",
    "header,ecg,time = aux.open_file(\"Experiments\",\"20200416-TR-FWv2series.txt\",0)\n",
    "sampling_rate = 250\n",
    "\n",
    "# Window size for epoches\n",
    "time_window = 10\n",
    "freq_window = 120\n",
    "\n",
    "# Clean ECG (no pre-processing method using ASI)\n",
    "ecg_cleaned = nk.ecg_clean(ecg,sampling_rate=sampling_rate, method='asi')\n",
    "\n",
    "# R-peaks detection\n",
    "instant_peaks, rpeaks_nocorrection, = nk.ecg_peaks(ecg_cleaned=ecg_cleaned,sampling_rate=sampling_rate,method='asi',correct_artifacts=False)\n",
    "rate = nk.signal_rate(rpeaks_nocorrection,sampling_rate=sampling_rate,desired_length=len(ecg_cleaned))\n",
    "quality = nk.ecg_quality(ecg_cleaned, rpeaks=None, sampling_rate=sampling_rate)\n",
    "signals = pd.DataFrame({\"ECG_Raw\": ecg,\"ECG_Clean\": ecg_cleaned,\"ECG_Rate\": rate,\"ECG_Quality\": quality})\n",
    "                                    \n",
    "# Have the right struture for epochs\n",
    "signals = pd.concat([signals, instant_peaks], axis=1)\n",
    "\n",
    "# Create epochs of the ecg signal for 10sec and 2min windows\n",
    "ecg_epochs_time = nk.epochs_create(signals, sampling_rate = 250, epochs_end = time_window)\n",
    "ecg_epochs_freq = nk.epochs_create(signals, sampling_rate = 250, epochs_end = freq_window)\n",
    "\n",
    "# Compute HRV metrics over the ecg_epochs\n",
    "hrv_epoches_nocorrection10 = nk.ecg_intervalrelated(ecg_epochs_time,sampling_rate = 250)\n",
    "hrv_epoches_nocorrection120 = nk.ecg_intervalrelated(ecg_epochs_freq,sampling_rate = 250)\n",
    "\n",
    "#========================\n",
    "# Kubios: Lipponen & Tarvainen (2019) \n",
    "# R-peaks detection\n",
    "instant_peaks, rpeaks_kubios, = nk.ecg_peaks(ecg_cleaned=ecg_cleaned,sampling_rate=sampling_rate,method='asi',correct_artifacts=True,methodcorrect='kubios')\n",
    "rate = nk.signal_rate(rpeaks_kubios,sampling_rate=sampling_rate,desired_length=len(ecg_cleaned))\n",
    "quality = nk.ecg_quality(ecg_cleaned, rpeaks=None, sampling_rate=sampling_rate)\n",
    "signals = pd.DataFrame({\"ECG_Raw\": ecg,\"ECG_Clean\": ecg_cleaned,\"ECG_Rate\": rate,\"ECG_Quality\": quality})\n",
    "                                    \n",
    "# Have the right struture for epochs\n",
    "signals = pd.concat([signals, instant_peaks], axis=1)\n",
    "\n",
    "# Create epochs of the ecg signal\n",
    "ecg_epochs_time = nk.epochs_create(signals, sampling_rate=250, epochs_end = time_window)\n",
    "ecg_epochs_freq = nk.epochs_create(signals, sampling_rate=250, epochs_end = freq_window)\n",
    "\n",
    "# Compute HRV metrics over the ecg_epochs\n",
    "hrv_epoches_correctionkubios10 = nk.ecg_intervalrelated(ecg_epochs_time,sampling_rate = 250)\n",
    "hrv_epoches_correctionkubios120 = nk.ecg_intervalrelated(ecg_epochs_freq,sampling_rate = 250)\n",
    "\n",
    "#========================\n",
    "# Deviation 20% from the mean\n",
    "# R-peaks detection\n",
    "instant_peaks, rpeaks_20, = nk.ecg_peaks(ecg_cleaned=ecg_cleaned,sampling_rate=sampling_rate,method='asi',correct_artifacts=True,methodcorrect='asi')\n",
    "rate = nk.signal_rate(rpeaks_20,sampling_rate=sampling_rate,desired_length=len(ecg_cleaned))\n",
    "quality = nk.ecg_quality(ecg_cleaned, rpeaks=None, sampling_rate=sampling_rate)\n",
    "signals = pd.DataFrame({\"ECG_Raw\": ecg,\"ECG_Clean\": ecg_cleaned,\"ECG_Rate\": rate,\"ECG_Quality\": quality})\n",
    "\n",
    "# Have the right struture for epochs\n",
    "signals = pd.concat([signals, instant_peaks], axis=1)\n",
    "\n",
    "# Create epochs of the ecg signal\n",
    "ecg_epochs_time = nk.epochs_create(signals, sampling_rate=250, epochs_end = time_window)\n",
    "ecg_epochs_freq = nk.epochs_create(signals, sampling_rate=250, epochs_end = freq_window)\n",
    "\n",
    "# Compute HRV metrics over the ecg_epochs\n",
    "hrv_epoches_correctionmedian10 = nk.ecg_intervalrelated(ecg_epochs_time,sampling_rate=250)\n",
    "hrv_epoches_correctionmedian120 = nk.ecg_intervalrelated(ecg_epochs_freq,sampling_rate=250)\n"
   ]
  },
  {
   "cell_type": "code",
   "execution_count": null,
   "metadata": {
    "scrolled": false
   },
   "outputs": [],
   "source": [
    "# Plot RR-intervals and corrected \n",
    "fig1, ax1 = plt.subplots(figsize=(15,15));\n",
    "plt.subplot(3,1,1)\n",
    "plt.plot(np.diff(rpeaks_nocorrection['ECG_R_Peaks']),label='RR-intervals, no correction')\n",
    "plt.plot(np.diff(rpeaks_kubios['ECG_R_Peaks']),label ='RR-intervals, Kubios')\n",
    "plt.plot(np.diff(rpeaks_20['ECG_R_Peaks']),label='RR-intervals, % 20 from the median')\n",
    "plt.xlabel('Time (s)')\n",
    "plt.grid()\n",
    "plt.title('RR-intervals')\n",
    "plt.legend()\n",
    "\n",
    "\n",
    "# Epoches of 10 sec - Time Domain\n",
    "# set first values as 0\n",
    "hrv_epoches_nocorrection10['HRV_RMSSD'][0] = hrv_epoches_nocorrection10['HRV_RMSSD'][1]  \n",
    "hrv_epoches_correctionkubios10['HRV_RMSSD'][0] = hrv_epoches_correctionkubios10['HRV_RMSSD'][1]  \n",
    "hrv_epoches_correctionmedian10['HRV_RMSSD'][0] = hrv_epoches_correctionkubios10['HRV_RMSSD'][1]  \n",
    "\n",
    "plt.subplot(3,1,2)\n",
    "plt.plot(hrv_epoches_nocorrection10['HRV_RMSSD'],label='RMSSD_no corrected')\n",
    "plt.plot(hrv_epoches_correctionkubios10['HRV_RMSSD'],label='RMSSD_corrected kubios')\n",
    "plt.plot(hrv_epoches_correctionmedian10['HRV_RMSSD'],label='RMSSD_corrected 20%')\n",
    "plt.ylim([0, 150]);\n",
    "plt.xlabel('Epoches')\n",
    "plt.ylabel('RMSSD (ms)')\n",
    "plt.title('Time domain metrics')\n",
    "plt.legend();\n",
    "\n",
    "\n",
    "# Epoches of 120 sec - Freq Domain\n",
    "plt.subplot(3,1,3)\n",
    "plt.plot(hrv_epoches_correctionkubios120['HRV_HFn'],'g--',label='HF_corrected kubios')\n",
    "plt.plot(hrv_epoches_correctionmedian120['HRV_HFn'],'g-.',label='HF_corrected 20%')\n",
    "plt.plot(hrv_epoches_nocorrection120['HRV_HFn'],'g',label ='HF_no corrected' )\n",
    "plt.plot(hrv_epoches_correctionkubios120['HRV_LFn'],'b--',label= 'LF_corrected kubios')\n",
    "plt.plot(hrv_epoches_correctionmedian120['HRV_LFn'],'b-.',label= 'LF_corrected 20%')\n",
    "plt.plot(hrv_epoches_nocorrection120['HRV_LFn'],'b',label = 'LF_nocorrected')\n",
    "plt.ylim([0, 1]);\n",
    "plt.xlabel('Epoches')\n",
    "plt.title('Frequency domain metrics')\n",
    "plt.ylabel('a.u')\n",
    "plt.legend();\n"
   ]
  },
  {
   "cell_type": "code",
   "execution_count": null,
   "metadata": {},
   "outputs": [],
   "source": []
  }
 ],
 "metadata": {
  "kernelspec": {
   "display_name": "Python 3",
   "language": "python",
   "name": "python3"
  },
  "language_info": {
   "codemirror_mode": {
    "name": "ipython",
    "version": 3
   },
   "file_extension": ".py",
   "mimetype": "text/x-python",
   "name": "python",
   "nbconvert_exporter": "python",
   "pygments_lexer": "ipython3",
   "version": "3.7.4"
  }
 },
 "nbformat": 4,
 "nbformat_minor": 2
}
